{
  "nbformat": 4,
  "nbformat_minor": 0,
  "metadata": {
    "colab": {
      "provenance": [],
      "gpuType": "T4",
      "authorship_tag": "ABX9TyMgpsi1PkPzjq7cToilvWv/",
      "include_colab_link": true
    },
    "kernelspec": {
      "name": "python3",
      "display_name": "Python 3"
    },
    "language_info": {
      "name": "python"
    },
    "accelerator": "GPU",
    "widgets": {
      "application/vnd.jupyter.widget-state+json": {
        "39feff620e5342bfba72c89844cafa11": {
          "model_module": "@jupyter-widgets/controls",
          "model_name": "HBoxModel",
          "model_module_version": "1.5.0",
          "state": {
            "_dom_classes": [],
            "_model_module": "@jupyter-widgets/controls",
            "_model_module_version": "1.5.0",
            "_model_name": "HBoxModel",
            "_view_count": null,
            "_view_module": "@jupyter-widgets/controls",
            "_view_module_version": "1.5.0",
            "_view_name": "HBoxView",
            "box_style": "",
            "children": [
              "IPY_MODEL_1f5902bf0f784e34831935dc999264a4",
              "IPY_MODEL_b5c3b48476c84aee869381dabe718c77",
              "IPY_MODEL_021b4af659e24b14acf47f8d9c9dea86"
            ],
            "layout": "IPY_MODEL_7b0823e052c548518ff690a29c9d57a7"
          }
        },
        "1f5902bf0f784e34831935dc999264a4": {
          "model_module": "@jupyter-widgets/controls",
          "model_name": "HTMLModel",
          "model_module_version": "1.5.0",
          "state": {
            "_dom_classes": [],
            "_model_module": "@jupyter-widgets/controls",
            "_model_module_version": "1.5.0",
            "_model_name": "HTMLModel",
            "_view_count": null,
            "_view_module": "@jupyter-widgets/controls",
            "_view_module_version": "1.5.0",
            "_view_name": "HTMLView",
            "description": "",
            "description_tooltip": null,
            "layout": "IPY_MODEL_eeb1109c672843a797e18ee974185135",
            "placeholder": "​",
            "style": "IPY_MODEL_e04911e53eff47bfb3d660eeddd32a69",
            "value": "100%"
          }
        },
        "b5c3b48476c84aee869381dabe718c77": {
          "model_module": "@jupyter-widgets/controls",
          "model_name": "FloatProgressModel",
          "model_module_version": "1.5.0",
          "state": {
            "_dom_classes": [],
            "_model_module": "@jupyter-widgets/controls",
            "_model_module_version": "1.5.0",
            "_model_name": "FloatProgressModel",
            "_view_count": null,
            "_view_module": "@jupyter-widgets/controls",
            "_view_module_version": "1.5.0",
            "_view_name": "ProgressView",
            "bar_style": "success",
            "description": "",
            "description_tooltip": null,
            "layout": "IPY_MODEL_a6266c2460714e0f8df6c76ecb188c19",
            "max": 24653425,
            "min": 0,
            "orientation": "horizontal",
            "style": "IPY_MODEL_adb076c6fcdd460eb13b0f8eb72e0c90",
            "value": 24653425
          }
        },
        "021b4af659e24b14acf47f8d9c9dea86": {
          "model_module": "@jupyter-widgets/controls",
          "model_name": "HTMLModel",
          "model_module_version": "1.5.0",
          "state": {
            "_dom_classes": [],
            "_model_module": "@jupyter-widgets/controls",
            "_model_module_version": "1.5.0",
            "_model_name": "HTMLModel",
            "_view_count": null,
            "_view_module": "@jupyter-widgets/controls",
            "_view_module_version": "1.5.0",
            "_view_name": "HTMLView",
            "description": "",
            "description_tooltip": null,
            "layout": "IPY_MODEL_9c91ded5a85948b5946f469570834195",
            "placeholder": "​",
            "style": "IPY_MODEL_3878825d6f2847dc82432730f275a44f",
            "value": " 23.5M/23.5M [00:00&lt;00:00, 35.4MB/s]"
          }
        },
        "7b0823e052c548518ff690a29c9d57a7": {
          "model_module": "@jupyter-widgets/base",
          "model_name": "LayoutModel",
          "model_module_version": "1.2.0",
          "state": {
            "_model_module": "@jupyter-widgets/base",
            "_model_module_version": "1.2.0",
            "_model_name": "LayoutModel",
            "_view_count": null,
            "_view_module": "@jupyter-widgets/base",
            "_view_module_version": "1.2.0",
            "_view_name": "LayoutView",
            "align_content": null,
            "align_items": null,
            "align_self": null,
            "border": null,
            "bottom": null,
            "display": null,
            "flex": null,
            "flex_flow": null,
            "grid_area": null,
            "grid_auto_columns": null,
            "grid_auto_flow": null,
            "grid_auto_rows": null,
            "grid_column": null,
            "grid_gap": null,
            "grid_row": null,
            "grid_template_areas": null,
            "grid_template_columns": null,
            "grid_template_rows": null,
            "height": null,
            "justify_content": null,
            "justify_items": null,
            "left": null,
            "margin": null,
            "max_height": null,
            "max_width": null,
            "min_height": null,
            "min_width": null,
            "object_fit": null,
            "object_position": null,
            "order": null,
            "overflow": null,
            "overflow_x": null,
            "overflow_y": null,
            "padding": null,
            "right": null,
            "top": null,
            "visibility": null,
            "width": null
          }
        },
        "eeb1109c672843a797e18ee974185135": {
          "model_module": "@jupyter-widgets/base",
          "model_name": "LayoutModel",
          "model_module_version": "1.2.0",
          "state": {
            "_model_module": "@jupyter-widgets/base",
            "_model_module_version": "1.2.0",
            "_model_name": "LayoutModel",
            "_view_count": null,
            "_view_module": "@jupyter-widgets/base",
            "_view_module_version": "1.2.0",
            "_view_name": "LayoutView",
            "align_content": null,
            "align_items": null,
            "align_self": null,
            "border": null,
            "bottom": null,
            "display": null,
            "flex": null,
            "flex_flow": null,
            "grid_area": null,
            "grid_auto_columns": null,
            "grid_auto_flow": null,
            "grid_auto_rows": null,
            "grid_column": null,
            "grid_gap": null,
            "grid_row": null,
            "grid_template_areas": null,
            "grid_template_columns": null,
            "grid_template_rows": null,
            "height": null,
            "justify_content": null,
            "justify_items": null,
            "left": null,
            "margin": null,
            "max_height": null,
            "max_width": null,
            "min_height": null,
            "min_width": null,
            "object_fit": null,
            "object_position": null,
            "order": null,
            "overflow": null,
            "overflow_x": null,
            "overflow_y": null,
            "padding": null,
            "right": null,
            "top": null,
            "visibility": null,
            "width": null
          }
        },
        "e04911e53eff47bfb3d660eeddd32a69": {
          "model_module": "@jupyter-widgets/controls",
          "model_name": "DescriptionStyleModel",
          "model_module_version": "1.5.0",
          "state": {
            "_model_module": "@jupyter-widgets/controls",
            "_model_module_version": "1.5.0",
            "_model_name": "DescriptionStyleModel",
            "_view_count": null,
            "_view_module": "@jupyter-widgets/base",
            "_view_module_version": "1.2.0",
            "_view_name": "StyleView",
            "description_width": ""
          }
        },
        "a6266c2460714e0f8df6c76ecb188c19": {
          "model_module": "@jupyter-widgets/base",
          "model_name": "LayoutModel",
          "model_module_version": "1.2.0",
          "state": {
            "_model_module": "@jupyter-widgets/base",
            "_model_module_version": "1.2.0",
            "_model_name": "LayoutModel",
            "_view_count": null,
            "_view_module": "@jupyter-widgets/base",
            "_view_module_version": "1.2.0",
            "_view_name": "LayoutView",
            "align_content": null,
            "align_items": null,
            "align_self": null,
            "border": null,
            "bottom": null,
            "display": null,
            "flex": null,
            "flex_flow": null,
            "grid_area": null,
            "grid_auto_columns": null,
            "grid_auto_flow": null,
            "grid_auto_rows": null,
            "grid_column": null,
            "grid_gap": null,
            "grid_row": null,
            "grid_template_areas": null,
            "grid_template_columns": null,
            "grid_template_rows": null,
            "height": null,
            "justify_content": null,
            "justify_items": null,
            "left": null,
            "margin": null,
            "max_height": null,
            "max_width": null,
            "min_height": null,
            "min_width": null,
            "object_fit": null,
            "object_position": null,
            "order": null,
            "overflow": null,
            "overflow_x": null,
            "overflow_y": null,
            "padding": null,
            "right": null,
            "top": null,
            "visibility": null,
            "width": null
          }
        },
        "adb076c6fcdd460eb13b0f8eb72e0c90": {
          "model_module": "@jupyter-widgets/controls",
          "model_name": "ProgressStyleModel",
          "model_module_version": "1.5.0",
          "state": {
            "_model_module": "@jupyter-widgets/controls",
            "_model_module_version": "1.5.0",
            "_model_name": "ProgressStyleModel",
            "_view_count": null,
            "_view_module": "@jupyter-widgets/base",
            "_view_module_version": "1.2.0",
            "_view_name": "StyleView",
            "bar_color": null,
            "description_width": ""
          }
        },
        "9c91ded5a85948b5946f469570834195": {
          "model_module": "@jupyter-widgets/base",
          "model_name": "LayoutModel",
          "model_module_version": "1.2.0",
          "state": {
            "_model_module": "@jupyter-widgets/base",
            "_model_module_version": "1.2.0",
            "_model_name": "LayoutModel",
            "_view_count": null,
            "_view_module": "@jupyter-widgets/base",
            "_view_module_version": "1.2.0",
            "_view_name": "LayoutView",
            "align_content": null,
            "align_items": null,
            "align_self": null,
            "border": null,
            "bottom": null,
            "display": null,
            "flex": null,
            "flex_flow": null,
            "grid_area": null,
            "grid_auto_columns": null,
            "grid_auto_flow": null,
            "grid_auto_rows": null,
            "grid_column": null,
            "grid_gap": null,
            "grid_row": null,
            "grid_template_areas": null,
            "grid_template_columns": null,
            "grid_template_rows": null,
            "height": null,
            "justify_content": null,
            "justify_items": null,
            "left": null,
            "margin": null,
            "max_height": null,
            "max_width": null,
            "min_height": null,
            "min_width": null,
            "object_fit": null,
            "object_position": null,
            "order": null,
            "overflow": null,
            "overflow_x": null,
            "overflow_y": null,
            "padding": null,
            "right": null,
            "top": null,
            "visibility": null,
            "width": null
          }
        },
        "3878825d6f2847dc82432730f275a44f": {
          "model_module": "@jupyter-widgets/controls",
          "model_name": "DescriptionStyleModel",
          "model_module_version": "1.5.0",
          "state": {
            "_model_module": "@jupyter-widgets/controls",
            "_model_module_version": "1.5.0",
            "_model_name": "DescriptionStyleModel",
            "_view_count": null,
            "_view_module": "@jupyter-widgets/base",
            "_view_module_version": "1.2.0",
            "_view_name": "StyleView",
            "description_width": ""
          }
        }
      }
    }
  },
  "cells": [
    {
      "cell_type": "markdown",
      "metadata": {
        "id": "view-in-github",
        "colab_type": "text"
      },
      "source": [
        "<a href=\"https://colab.research.google.com/github/mvinyard/AnnDataQuery/blob/test-release/notebooks/anndata_query_tutorial.ipynb\" target=\"_parent\"><img src=\"https://colab.research.google.com/assets/colab-badge.svg\" alt=\"Open In Colab\"/></a>"
      ]
    },
    {
      "cell_type": "markdown",
      "source": [
        "### Install packages. We'll use `scanpy` to quickly grab some example data."
      ],
      "metadata": {
        "id": "ttpovxdrBrek"
      }
    },
    {
      "cell_type": "code",
      "execution_count": 19,
      "metadata": {
        "id": "vnlZGZs3zSho"
      },
      "outputs": [],
      "source": [
        "# ! pip install -q adata-query\n",
        "# ! pip install -q scanpy"
      ]
    },
    {
      "cell_type": "markdown",
      "source": [
        "**A quick note while getting started**: if you'd like to test the GPU examples in in colab, ensure you select a GPU runtime."
      ],
      "metadata": {
        "id": "sqjumRmWDTAw"
      }
    },
    {
      "cell_type": "markdown",
      "source": [
        "### Import libraries and load in some data"
      ],
      "metadata": {
        "id": "n75h_HmmBm1V"
      }
    },
    {
      "cell_type": "code",
      "source": [
        "import adata_query\n",
        "import scanpy as sc"
      ],
      "metadata": {
        "id": "q4LWf-4KzVig"
      },
      "execution_count": 2,
      "outputs": []
    },
    {
      "cell_type": "code",
      "source": [
        "adata = sc.datasets.pbmc3k_processed()\n",
        "adata"
      ],
      "metadata": {
        "colab": {
          "base_uri": "https://localhost:8080/",
          "height": 171,
          "referenced_widgets": [
            "39feff620e5342bfba72c89844cafa11",
            "1f5902bf0f784e34831935dc999264a4",
            "b5c3b48476c84aee869381dabe718c77",
            "021b4af659e24b14acf47f8d9c9dea86",
            "7b0823e052c548518ff690a29c9d57a7",
            "eeb1109c672843a797e18ee974185135",
            "e04911e53eff47bfb3d660eeddd32a69",
            "a6266c2460714e0f8df6c76ecb188c19",
            "adb076c6fcdd460eb13b0f8eb72e0c90",
            "9c91ded5a85948b5946f469570834195",
            "3878825d6f2847dc82432730f275a44f"
          ]
        },
        "id": "Jwx6yInh0v8p",
        "outputId": "62509119-5b0b-434d-ce81-75fa4d9680b6"
      },
      "execution_count": 3,
      "outputs": [
        {
          "output_type": "display_data",
          "data": {
            "text/plain": [
              "  0%|          | 0.00/23.5M [00:00<?, ?B/s]"
            ],
            "application/vnd.jupyter.widget-view+json": {
              "version_major": 2,
              "version_minor": 0,
              "model_id": "39feff620e5342bfba72c89844cafa11"
            }
          },
          "metadata": {}
        },
        {
          "output_type": "execute_result",
          "data": {
            "text/plain": [
              "AnnData object with n_obs × n_vars = 2638 × 1838\n",
              "    obs: 'n_genes', 'percent_mito', 'n_counts', 'louvain'\n",
              "    var: 'n_cells'\n",
              "    uns: 'draw_graph', 'louvain', 'louvain_colors', 'neighbors', 'pca', 'rank_genes_groups'\n",
              "    obsm: 'X_pca', 'X_tsne', 'X_umap', 'X_draw_graph_fr'\n",
              "    varm: 'PCs'\n",
              "    obsp: 'distances', 'connectivities'"
            ]
          },
          "metadata": {},
          "execution_count": 3
        }
      ]
    },
    {
      "cell_type": "markdown",
      "source": [
        "### Format as **`np.ndarray`**"
      ],
      "metadata": {
        "id": "DvAig5UICmPd"
      }
    },
    {
      "cell_type": "code",
      "source": [
        "fetched = adata_query.fetch(adata, key = \"X_pca\")\n",
        "print(f\"type(fetched): {type(fetched)}, fetched shape: {fetched.shape}\", end = \"\\n\\n\")"
      ],
      "metadata": {
        "colab": {
          "base_uri": "https://localhost:8080/"
        },
        "id": "uwRS094xCWYx",
        "outputId": "a15191f3-79bf-4224-b7de-b2318a4f68a1"
      },
      "execution_count": 25,
      "outputs": [
        {
          "output_type": "stream",
          "name": "stdout",
          "text": [
            "type(fetched): <class 'numpy.ndarray'>, fetched shape: (2638, 50)\n",
            "\n"
          ]
        }
      ]
    },
    {
      "cell_type": "markdown",
      "source": [
        "### Format as **`torch.Tensor`**"
      ],
      "metadata": {
        "id": "a5ZBCQ1bCqX8"
      }
    },
    {
      "cell_type": "code",
      "source": [
        "fetched = adata_query.fetch(adata, key = \"X_pca\", torch=True)\n",
        "print(f\"type(fetched): {type(fetched)}, fetched shape: {fetched.shape}, fetched device: {fetched.device}\", end = \"\\n\\n\")"
      ],
      "metadata": {
        "colab": {
          "base_uri": "https://localhost:8080/"
        },
        "outputId": "a36d0337-ae36-40b7-ff0f-8b8d2b9fa94a",
        "id": "FLskRQrFCqX8"
      },
      "execution_count": 27,
      "outputs": [
        {
          "output_type": "stream",
          "name": "stdout",
          "text": [
            "type(fetched): <class 'torch.Tensor'>, fetched shape: torch.Size([2638, 50]), fetched device: cuda:0\n",
            "\n"
          ]
        }
      ]
    },
    {
      "cell_type": "markdown",
      "source": [
        "### Format as **`torch.Tensor`**, but don't send data to a GPU"
      ],
      "metadata": {
        "id": "aQUkzPn9C2Y-"
      }
    },
    {
      "cell_type": "code",
      "source": [
        "fetched = adata_query.fetch(adata, key = \"X_pca\", torch=True, device = \"cpu\")\n",
        "print(f\"type(fetched): {type(fetched)}, fetched shape: {fetched.shape}, fetched device: {fetched.device}\", end = \"\\n\\n\")"
      ],
      "metadata": {
        "colab": {
          "base_uri": "https://localhost:8080/"
        },
        "id": "m5KUrXmwCy2_",
        "outputId": "e1c19e66-2aee-4b09-ec0c-e4610053b554"
      },
      "execution_count": 28,
      "outputs": [
        {
          "output_type": "stream",
          "name": "stdout",
          "text": [
            "type(fetched): <class 'torch.Tensor'>, fetched shape: torch.Size([2638, 50]), fetched device: cpu\n",
            "\n"
          ]
        }
      ]
    },
    {
      "cell_type": "markdown",
      "source": [
        "### Using **`groupby`**, and formatting as **`np.ndarray`**"
      ],
      "metadata": {
        "id": "vtZloUz3BUk3"
      }
    },
    {
      "cell_type": "code",
      "source": [
        "fetched = adata_query.fetch(adata, key = \"X_umap\", groupby = \"louvain\")\n",
        "print(f\"type(fetched): {type(fetched)}\", end = \"\\n\\n\")\n",
        "\n",
        "for key, val in fetched.items():\n",
        "    print(\"{:<20}| \".format(key), \"Cells: {:<4} x Dims: {} |\".format(*val.shape), \"Type: {}, {}\".format(type(val), val.dtype))"
      ],
      "metadata": {
        "id": "B4SBeoVl05zf",
        "colab": {
          "base_uri": "https://localhost:8080/"
        },
        "outputId": "12adbbaf-e3a3-419e-b673-f236b1d3dfe4"
      },
      "execution_count": 24,
      "outputs": [
        {
          "output_type": "stream",
          "name": "stdout",
          "text": [
            "type(fetched): <class 'dict'>\n",
            "\n",
            "CD4 T cells         |  Cells: 1144 x Dims: 2 | Type: <class 'numpy.ndarray'>, float64\n",
            "CD14+ Monocytes     |  Cells: 480  x Dims: 2 | Type: <class 'numpy.ndarray'>, float64\n",
            "B cells             |  Cells: 342  x Dims: 2 | Type: <class 'numpy.ndarray'>, float64\n",
            "CD8 T cells         |  Cells: 316  x Dims: 2 | Type: <class 'numpy.ndarray'>, float64\n",
            "NK cells            |  Cells: 154  x Dims: 2 | Type: <class 'numpy.ndarray'>, float64\n",
            "FCGR3A+ Monocytes   |  Cells: 150  x Dims: 2 | Type: <class 'numpy.ndarray'>, float64\n",
            "Dendritic cells     |  Cells: 37   x Dims: 2 | Type: <class 'numpy.ndarray'>, float64\n",
            "Megakaryocytes      |  Cells: 15   x Dims: 2 | Type: <class 'numpy.ndarray'>, float64\n"
          ]
        }
      ]
    },
    {
      "cell_type": "markdown",
      "source": [
        "### Using **`groupby`**, and formatting as **`torch.Tensor`** on GPU (`\"cuda:0\"`)"
      ],
      "metadata": {
        "id": "f6aor0XWBIxW"
      }
    },
    {
      "cell_type": "code",
      "source": [
        "fetched = adata_query.fetch(adata, key = \"X_pca\", groupby = \"louvain\", torch = True)\n",
        "print(f\"type(fetched): {type(fetched)}\", end = \"\\n\\n\")\n",
        "for key, val in fetched.items():\n",
        "    print(\"{:<20}| \".format(key), \"Cells: {:<4} x Dims: {} |\".format(*val.shape), \"Type: {}, {}\".format(type(val), val.dtype))"
      ],
      "metadata": {
        "id": "9Q1WAUpp0-D9",
        "colab": {
          "base_uri": "https://localhost:8080/"
        },
        "outputId": "eb54e7ac-f2fd-4514-9307-ed990d85ad19"
      },
      "execution_count": 23,
      "outputs": [
        {
          "output_type": "stream",
          "name": "stdout",
          "text": [
            "type(fetched): <class 'dict'>\n",
            "\n",
            "CD4 T cells         |  Cells: 1144 x Dims: 50 | Type: <class 'torch.Tensor'>, torch.float32\n",
            "CD14+ Monocytes     |  Cells: 480  x Dims: 50 | Type: <class 'torch.Tensor'>, torch.float32\n",
            "B cells             |  Cells: 342  x Dims: 50 | Type: <class 'torch.Tensor'>, torch.float32\n",
            "CD8 T cells         |  Cells: 316  x Dims: 50 | Type: <class 'torch.Tensor'>, torch.float32\n",
            "NK cells            |  Cells: 154  x Dims: 50 | Type: <class 'torch.Tensor'>, torch.float32\n",
            "FCGR3A+ Monocytes   |  Cells: 150  x Dims: 50 | Type: <class 'torch.Tensor'>, torch.float32\n",
            "Dendritic cells     |  Cells: 37   x Dims: 50 | Type: <class 'torch.Tensor'>, torch.float32\n",
            "Megakaryocytes      |  Cells: 15   x Dims: 50 | Type: <class 'torch.Tensor'>, torch.float32\n"
          ]
        }
      ]
    },
    {
      "cell_type": "code",
      "source": [],
      "metadata": {
        "id": "5LaQ87vLB4AA"
      },
      "execution_count": null,
      "outputs": []
    }
  ]
}